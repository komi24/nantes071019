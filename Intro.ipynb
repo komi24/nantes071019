{
 "cells": [
  {
   "cell_type": "markdown",
   "metadata": {},
   "source": [
    "## Les variables"
   ]
  },
  {
   "cell_type": "code",
   "execution_count": 14,
   "metadata": {},
   "outputs": [
    {
     "name": "stdout",
     "output_type": "stream",
     "text": [
      "<class 'int'>\n",
      "<class 'str'>\n",
      "Bonjour tout le monde\n",
      "<class 'float'>\n",
      "<class 'float'>\n",
      "<class 'int'>\n",
      "False\n",
      "True\n"
     ]
    }
   ],
   "source": [
    "a = 2\n",
    "print(type(a))\n",
    "a = \"Bonjour\"\n",
    "b = \" tout le monde\"\n",
    "print(type(a))\n",
    "print(a+b)\n",
    "\n",
    "a = 2.0\n",
    "print(type(a))\n",
    "print(type(3/4))\n",
    "print(type(3//4))\n",
    "\n",
    "a = None\n",
    "\n",
    "age = 18\n",
    "etat = age >= 18\n",
    "location = \"Nantes\"\n",
    "print((age >= 18) and (location == \"Paris\"))\n",
    "print((age >= 18) or (location == \"Paris\"))\n"
   ]
  },
  {
   "cell_type": "code",
   "execution_count": 2,
   "metadata": {},
   "outputs": [
    {
     "name": "stdout",
     "output_type": "stream",
     "text": [
      "2\n"
     ]
    }
   ],
   "source": [
    "print(a)"
   ]
  },
  {
   "cell_type": "markdown",
   "metadata": {},
   "source": [
    "## Ceci est un titre\n",
    "\n",
    "#### Un sous titre\n",
    "\n",
    "* Liste 1\n",
    "* 2"
   ]
  },
  {
   "cell_type": "code",
   "execution_count": 23,
   "metadata": {},
   "outputs": [
    {
     "name": "stdout",
     "output_type": "stream",
     "text": [
      "[12, 4, 5, 3, 8]\n",
      "<class 'list'>\n",
      "12\n",
      "4\n",
      "8\n",
      "8\n",
      "8\n",
      "5\n",
      "3\n",
      "[12, 4, 5, 3, 8, 4, 8, 12]\n",
      "[0, 0, 0, 0, 0, 0, 0, 0, 0, 0]\n"
     ]
    }
   ],
   "source": [
    "ma_liste = [ 12, 4, 5, 3, 8]\n",
    "print(ma_liste)\n",
    "print(type(ma_liste))\n",
    "print(ma_liste[0])\n",
    "print(ma_liste[1])\n",
    "print(ma_liste[-1]) # Dernier élément\n",
    "print(ma_liste[4]) # Dernier élément : mauvaise solution\n",
    "print(ma_liste[len(ma_liste)-1]) # Dernier élément : trop long à écrire\n",
    "print(len(ma_liste)) # Taille de la liste\n",
    "\n",
    "print(ma_liste[-2]) # Avant dernier élément\n",
    "# print(ma_liste[18]) # Erreur\n",
    "\n",
    "print(ma_liste + [4, 8, 12])\n",
    "print([0] * 10)"
   ]
  },
  {
   "cell_type": "code",
   "execution_count": 24,
   "metadata": {},
   "outputs": [
    {
     "name": "stdout",
     "output_type": "stream",
     "text": [
      "Bonjour\n",
      "7\n",
      "8\n"
     ]
    }
   ],
   "source": [
    "ma_liste = [True, \"Bonjour\", [2,5,7], 8]\n",
    "\n",
    "# Afficher \"Bonjour\"\n",
    "# Afficher 7\n",
    "# Afficher 8\n",
    "print(ma_liste[1])\n",
    "print(ma_liste[2][-1])\n",
    "print(ma_liste[-1])\n",
    "\n"
   ]
  },
  {
   "cell_type": "code",
   "execution_count": 28,
   "metadata": {},
   "outputs": [
    {
     "name": "stdout",
     "output_type": "stream",
     "text": [
      "[4, 7, 1]\n",
      "[3, 4, 7, 1]\n",
      "[3, 4, 7, 1]\n",
      "[4, 7, 1, 17, 12]\n",
      "[4, 7, 1, 17]\n",
      "[4, 1]\n",
      "[12, 1, 4]\n",
      "[17, 1, 7, 4]\n"
     ]
    }
   ],
   "source": [
    "ma_liste = [3, 4, 7, 1, 17, 12]\n",
    "print(ma_liste[1:4])\n",
    "print(ma_liste[0:4])\n",
    "print(ma_liste[:4])\n",
    "print(ma_liste[1:])\n",
    "print(ma_liste[1:-1]) # Jusqu'à l'avant dernier\n",
    "print(ma_liste[1:-1:2])\n",
    "print(ma_liste[::-2])\n",
    "# Afficher les éléments de la liste de 17 à 4\n",
    "print(ma_liste[-2:0:-1])\n"
   ]
  },
  {
   "cell_type": "code",
   "execution_count": null,
   "metadata": {},
   "outputs": [],
   "source": []
  },
  {
   "cell_type": "code",
   "execution_count": null,
   "metadata": {},
   "outputs": [],
   "source": []
  },
  {
   "cell_type": "code",
   "execution_count": null,
   "metadata": {},
   "outputs": [],
   "source": []
  }
 ],
 "metadata": {
  "kernelspec": {
   "display_name": "Python 3",
   "language": "python",
   "name": "python3"
  },
  "language_info": {
   "codemirror_mode": {
    "name": "ipython",
    "version": 3
   },
   "file_extension": ".py",
   "mimetype": "text/x-python",
   "name": "python",
   "nbconvert_exporter": "python",
   "pygments_lexer": "ipython3",
   "version": "3.7.3"
  }
 },
 "nbformat": 4,
 "nbformat_minor": 2
}
