{
 "cells": [
  {
   "cell_type": "markdown",
   "metadata": {},
   "source": [
    "## Les variables"
   ]
  },
  {
   "cell_type": "code",
   "execution_count": 14,
   "metadata": {},
   "outputs": [
    {
     "name": "stdout",
     "output_type": "stream",
     "text": [
      "<class 'int'>\n",
      "<class 'str'>\n",
      "Bonjour tout le monde\n",
      "<class 'float'>\n",
      "<class 'float'>\n",
      "<class 'int'>\n",
      "False\n",
      "True\n"
     ]
    }
   ],
   "source": [
    "a = 2\n",
    "print(type(a))\n",
    "a = \"Bonjour\"\n",
    "b = \" tout le monde\"\n",
    "print(type(a))\n",
    "print(a+b)\n",
    "\n",
    "a = 2.0\n",
    "print(type(a))\n",
    "print(type(3/4))\n",
    "print(type(3//4))\n",
    "\n",
    "a = None\n",
    "\n",
    "age = 18\n",
    "etat = age >= 18\n",
    "location = \"Nantes\"\n",
    "print((age >= 18) and (location == \"Paris\"))\n",
    "print((age >= 18) or (location == \"Paris\"))\n"
   ]
  },
  {
   "cell_type": "code",
   "execution_count": 2,
   "metadata": {},
   "outputs": [
    {
     "name": "stdout",
     "output_type": "stream",
     "text": [
      "2\n"
     ]
    }
   ],
   "source": [
    "print(a)"
   ]
  },
  {
   "cell_type": "markdown",
   "metadata": {},
   "source": [
    "## Ceci est un titre\n",
    "\n",
    "#### Un sous titre\n",
    "\n",
    "* Liste 1\n",
    "* 2"
   ]
  },
  {
   "cell_type": "code",
   "execution_count": 23,
   "metadata": {},
   "outputs": [
    {
     "name": "stdout",
     "output_type": "stream",
     "text": [
      "[12, 4, 5, 3, 8]\n",
      "<class 'list'>\n",
      "12\n",
      "4\n",
      "8\n",
      "8\n",
      "8\n",
      "5\n",
      "3\n",
      "[12, 4, 5, 3, 8, 4, 8, 12]\n",
      "[0, 0, 0, 0, 0, 0, 0, 0, 0, 0]\n"
     ]
    }
   ],
   "source": [
    "ma_liste = [ 12, 4, 5, 3, 8]\n",
    "print(ma_liste)\n",
    "print(type(ma_liste))\n",
    "print(ma_liste[0])\n",
    "print(ma_liste[1])\n",
    "print(ma_liste[-1]) # Dernier élément\n",
    "print(ma_liste[4]) # Dernier élément : mauvaise solution\n",
    "print(ma_liste[len(ma_liste)-1]) # Dernier élément : trop long à écrire\n",
    "print(len(ma_liste)) # Taille de la liste\n",
    "\n",
    "print(ma_liste[-2]) # Avant dernier élément\n",
    "# print(ma_liste[18]) # Erreur\n",
    "\n",
    "print(ma_liste + [4, 8, 12])\n",
    "print([0] * 10)"
   ]
  },
  {
   "cell_type": "code",
   "execution_count": 24,
   "metadata": {},
   "outputs": [
    {
     "name": "stdout",
     "output_type": "stream",
     "text": [
      "Bonjour\n",
      "7\n",
      "8\n"
     ]
    }
   ],
   "source": [
    "ma_liste = [True, \"Bonjour\", [2,5,7], 8]\n",
    "\n",
    "# Afficher \"Bonjour\"\n",
    "# Afficher 7\n",
    "# Afficher 8\n",
    "print(ma_liste[1])\n",
    "print(ma_liste[2][-1])\n",
    "print(ma_liste[-1])\n",
    "\n"
   ]
  },
  {
   "cell_type": "code",
   "execution_count": 28,
   "metadata": {},
   "outputs": [
    {
     "name": "stdout",
     "output_type": "stream",
     "text": [
      "[4, 7, 1]\n",
      "[3, 4, 7, 1]\n",
      "[3, 4, 7, 1]\n",
      "[4, 7, 1, 17, 12]\n",
      "[4, 7, 1, 17]\n",
      "[4, 1]\n",
      "[12, 1, 4]\n",
      "[17, 1, 7, 4]\n"
     ]
    }
   ],
   "source": [
    "ma_liste = [3, 4, 7, 1, 17, 12]\n",
    "print(ma_liste[1:4])\n",
    "print(ma_liste[0:4])\n",
    "print(ma_liste[:4])\n",
    "print(ma_liste[1:])\n",
    "print(ma_liste[1:-1]) # Jusqu'à l'avant dernier\n",
    "print(ma_liste[1:-1:2])\n",
    "print(ma_liste[::-2])\n",
    "# Afficher les éléments de la liste de 17 à 4\n",
    "print(ma_liste[-2:0:-1])\n"
   ]
  },
  {
   "cell_type": "code",
   "execution_count": 30,
   "metadata": {},
   "outputs": [
    {
     "name": "stdout",
     "output_type": "stream",
     "text": [
      "True\n",
      "True\n",
      "True\n",
      "False\n",
      "True\n"
     ]
    }
   ],
   "source": [
    "liste_ages = [32, 54, 28, 14, 42]\n",
    "for age in liste_ages:\n",
    "    ma_variable = age > 18\n",
    "    print(ma_variable)\n",
    "    "
   ]
  },
  {
   "cell_type": "code",
   "execution_count": 33,
   "metadata": {},
   "outputs": [
    {
     "name": "stdout",
     "output_type": "stream",
     "text": [
      "170\n"
     ]
    }
   ],
   "source": [
    "# Récupérer la somme des ages\n",
    "liste_ages = [32, 54, 28, 14, 42]\n",
    "somme = 0\n",
    "\n",
    "for age in liste_ages:\n",
    "    somme += age #somme = somme + age\n",
    "\n",
    "print(somme)\n"
   ]
  },
  {
   "cell_type": "code",
   "execution_count": 36,
   "metadata": {},
   "outputs": [
    {
     "name": "stdout",
     "output_type": "stream",
     "text": [
      "0\n",
      "1\n",
      "2\n",
      "3\n",
      "4\n",
      "5\n",
      "6\n",
      "7\n",
      "8\n",
      "9\n",
      "10\n",
      "11\n",
      "12\n",
      "13\n",
      "0\n",
      "2\n",
      "32\n",
      "1\n",
      "4\n",
      "54\n",
      "2\n",
      "1\n",
      "28\n",
      "3\n",
      "6\n",
      "14\n",
      "4\n",
      "8\n",
      "42\n"
     ]
    }
   ],
   "source": [
    "\"\"\"\n",
    "    On peut afficher tous les entiers de 0 à 14\n",
    "    Exclus avec range(14)\n",
    "\"\"\"\n",
    "for i in range(14):\n",
    "    print(i)\n",
    "\n",
    "    \n",
    "    \n",
    "\"\"\"\n",
    "    On peut afficher tous les indices de ma liste2\n",
    "    Avec range(len(liste_2))\n",
    "\"\"\"\n",
    "liste2 = [2,4,1,6,8]\n",
    "\n",
    "for i in range(len(liste2)):\n",
    "    print(i)\n",
    "    print(liste2[i])\n",
    "    print(liste_ages[i])\n"
   ]
  },
  {
   "cell_type": "markdown",
   "metadata": {},
   "source": [
    "## Structure conditionnelle"
   ]
  },
  {
   "cell_type": "code",
   "execution_count": 39,
   "metadata": {},
   "outputs": [
    {
     "name": "stdout",
     "output_type": "stream",
     "text": [
      "15\n"
     ]
    }
   ],
   "source": [
    "elmt1 = 51\n",
    "elmt2 = 12\n",
    "\n",
    "if elmt1 < elmt2:\n",
    "    a = 4\n",
    "elif elmt1 == elmt2:\n",
    "    a = 5\n",
    "else:\n",
    "    a = 15\n",
    "\n",
    "print(a)"
   ]
  },
  {
   "cell_type": "code",
   "execution_count": 41,
   "metadata": {},
   "outputs": [
    {
     "name": "stdout",
     "output_type": "stream",
     "text": [
      "majeur\n",
      "majeur\n",
      "majeur\n",
      "mineur\n",
      "majeur\n"
     ]
    }
   ],
   "source": [
    "liste_ages = [32, 54, 28, 14, 42]\n",
    "# Afficher à chaque fois \"majeur\" si l'age est supérieur ou égal à 18\n",
    "# Sinon j'affiche mineur\n",
    "\n",
    "for age in liste_ages:\n",
    "    if age >= 18:\n",
    "        print(\"majeur\")\n",
    "    else:\n",
    "        print(\"mineur\")\n"
   ]
  },
  {
   "cell_type": "code",
   "execution_count": 42,
   "metadata": {},
   "outputs": [
    {
     "name": "stdout",
     "output_type": "stream",
     "text": [
      "liste1\n",
      "liste1\n",
      "liste2\n",
      "liste2\n",
      "liste2\n"
     ]
    }
   ],
   "source": [
    "liste_ages2 = [28, 43, 70, 65, 44]\n",
    "# Comparer un à un les éléments de\n",
    "# Liste_ages et liste_ages2\n",
    "# Afficher \"liste1\" si l'élément de liste_ages est supérieur\n",
    "# Sinon afficher \"liste2\"\n",
    "\n",
    "for i in range(len(liste_ages2)):\n",
    "    if liste_ages[i] > liste_ages2[i]:\n",
    "        print(\"liste1\")\n",
    "    else:\n",
    "        print(\"liste2\")"
   ]
  },
  {
   "cell_type": "code",
   "execution_count": 44,
   "metadata": {},
   "outputs": [
    {
     "name": "stdout",
     "output_type": "stream",
     "text": [
      "age1 =  4\n",
      "age2 =  14\n",
      "age1 =  8\n",
      "age2 =  38\n",
      "age1 =  3\n",
      "age2 =  53\n"
     ]
    }
   ],
   "source": [
    "liste_ages = [4, 8, 3, 18, 54]\n",
    "liste_ages2 = [14, 38, 53]\n",
    "for age1, age2 in zip(liste_ages, liste_ages2):\n",
    "    print(\"age1 = \", age1)\n",
    "    print(\"age2 = \", age2)"
   ]
  },
  {
   "cell_type": "code",
   "execution_count": 47,
   "metadata": {},
   "outputs": [
    {
     "name": "stdout",
     "output_type": "stream",
     "text": [
      "age1 = 4, age2 = 14\n",
      "age1 = 8, age2 = 38\n",
      "age1 = 3, age2 = 53\n"
     ]
    }
   ],
   "source": [
    "liste_ages = [4, 8, 3, 18, 54]\n",
    "liste_ages2 = [14, 38, 53]\n",
    "for age1, age2 in zip(liste_ages, liste_ages2):\n",
    "    #print(\"age1 = \" + age1 + \"age2 = \" + age2) # Erreur liée aux types str + int\n",
    "    #print(\"age1 = \" + str(age1) + \"age2 = \" + str(age2)) # Trop long\n",
    "    print(f\"age1 = {age1}, age2 = {age2}\")"
   ]
  },
  {
   "cell_type": "code",
   "execution_count": 48,
   "metadata": {},
   "outputs": [
    {
     "name": "stdout",
     "output_type": "stream",
     "text": [
      "Le 0-ème élément est 14\n",
      "Le 1-ème élément est 38\n",
      "Le 2-ème élément est 53\n"
     ]
    }
   ],
   "source": [
    "liste_ages = [14, 38, 53]\n",
    "for i, val in enumerate(liste_ages):\n",
    "    print(f\"Le {i}-ème élément est {val}\")"
   ]
  },
  {
   "cell_type": "code",
   "execution_count": 49,
   "metadata": {},
   "outputs": [
    {
     "name": "stdout",
     "output_type": "stream",
     "text": [
      "age1 = 4, age2 = 14\n",
      "age1 = 4, age2 = 38\n",
      "age1 = 4, age2 = 53\n",
      "age1 = 8, age2 = 14\n",
      "age1 = 8, age2 = 38\n",
      "age1 = 8, age2 = 53\n",
      "age1 = 3, age2 = 14\n",
      "age1 = 3, age2 = 38\n",
      "age1 = 3, age2 = 53\n",
      "age1 = 18, age2 = 14\n",
      "age1 = 18, age2 = 38\n",
      "age1 = 18, age2 = 53\n",
      "age1 = 54, age2 = 14\n",
      "age1 = 54, age2 = 38\n",
      "age1 = 54, age2 = 53\n"
     ]
    }
   ],
   "source": [
    "from itertools import product\n",
    "\n",
    "liste_ages = [4, 8, 3, 18, 54]\n",
    "liste_ages2 = [14, 38, 53]\n",
    "for age1, age2 in product(liste_ages, liste_ages2):\n",
    "    #print(\"age1 = \" + age1 + \"age2 = \" + age2) # Erreur liée aux types str + int\n",
    "    #print(\"age1 = \" + str(age1) + \"age2 = \" + str(age2)) # Trop long\n",
    "    print(f\"age1 = {age1}, age2 = {age2}\")"
   ]
  },
  {
   "cell_type": "code",
   "execution_count": 51,
   "metadata": {},
   "outputs": [
    {
     "name": "stdout",
     "output_type": "stream",
     "text": [
      "Quelle est votre proposition ?40\n",
      "Vous avez proposé 40\n",
      "Trop petit\n",
      "Quelle est votre proposition ?60\n",
      "Trop petit\n",
      "Quelle est votre proposition ?80\n",
      "Trop grand\n",
      "Quelle est votre proposition ?70\n",
      "Trop grand\n",
      "Quelle est votre proposition ?65\n",
      "Trop petit\n",
      "Quelle est votre proposition ?58\n",
      "Trop petit\n",
      "Quelle est votre proposition ?68\n",
      "Trop petit\n",
      "Quelle est votre proposition ?69\n"
     ]
    }
   ],
   "source": [
    "\"\"\"\n",
    "    Ecrire un programme qui génère au début un nombre entre 0 et 100\n",
    "    L'utilisateur va devoir faire des propositions (entre zéro et 100)\n",
    "    à chaque fois le programme va répondre si la proposition est trop \n",
    "    petite, trop grande, ou correcte\n",
    "\"\"\"\n",
    "from random import randint\n",
    "\n",
    "valeur_secrete = randint(0, 101)\n",
    "proposition = int(input(\"Quelle est votre proposition ?\"))\n",
    "# Renvoie une chaine de caractère\n",
    "# On peut la transformer en int avec proposition = int(proposition)\n",
    "print(f\"Vous avez proposé {proposition}\")\n",
    "while proposition != valeur_secrete:\n",
    "    if proposition > valeur_secrete:\n",
    "        print(\"Trop grand\")\n",
    "        proposition = int(input(\"Quelle est votre proposition ?\"))\n",
    "    elif proposition < valeur_secrete:\n",
    "        print(\"Trop petit\")\n",
    "        proposition = int(input(\"Quelle est votre proposition ?\"))\n",
    "\n",
    "print(\"Gagné\")\n"
   ]
  },
  {
   "cell_type": "code",
   "execution_count": null,
   "metadata": {},
   "outputs": [],
   "source": []
  }
 ],
 "metadata": {
  "kernelspec": {
   "display_name": "Python 3",
   "language": "python",
   "name": "python3"
  },
  "language_info": {
   "codemirror_mode": {
    "name": "ipython",
    "version": 3
   },
   "file_extension": ".py",
   "mimetype": "text/x-python",
   "name": "python",
   "nbconvert_exporter": "python",
   "pygments_lexer": "ipython3",
   "version": "3.7.3"
  }
 },
 "nbformat": 4,
 "nbformat_minor": 2
}
