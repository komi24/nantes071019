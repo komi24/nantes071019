{
 "cells": [
  {
   "cell_type": "code",
   "execution_count": 6,
   "metadata": {},
   "outputs": [
    {
     "name": "stdout",
     "output_type": "stream",
     "text": [
      "Application du décorateur\n",
      "Je change le name\n",
      "Bonjour MARTIN\n",
      "Je change le name\n",
      "Bonjour LIONEL\n",
      "Je change le name\n",
      "Bonjour LESLIE\n",
      "Je change le name\n",
      "Bonjour CHRISTOPHE\n"
     ]
    }
   ],
   "source": [
    "\"\"\"\n",
    "    Décorateur \n",
    "\"\"\"\n",
    "\n",
    "def mon_decorateur(f):\n",
    "    print(\"Application du décorateur\")\n",
    "    def nouvelle_fonction(name):\n",
    "        print(\"Je change le name\")\n",
    "        name = name.upper()\n",
    "        return f(name)\n",
    "    return nouvelle_fonction\n",
    "\n",
    "\n",
    "@mon_decorateur\n",
    "def dire_bonjour(name):\n",
    "    print(f\"Bonjour {name}\")\n",
    "\n",
    "\n",
    "dire_bonjour(\"Martin\")\n",
    "\n",
    "dire_bonjour(\"Lionel\")\n",
    "dire_bonjour(\"Leslie\")\n",
    "dire_bonjour(\"Christophe\")\n"
   ]
  },
  {
   "cell_type": "code",
   "execution_count": 4,
   "metadata": {},
   "outputs": [
    {
     "data": {
      "text/plain": [
       "'HELLO'"
      ]
     },
     "execution_count": 4,
     "metadata": {},
     "output_type": "execute_result"
    }
   ],
   "source": [
    "\"Hello\".upper()"
   ]
  },
  {
   "cell_type": "code",
   "execution_count": null,
   "metadata": {},
   "outputs": [],
   "source": []
  }
 ],
 "metadata": {
  "kernelspec": {
   "display_name": "Python 3",
   "language": "python",
   "name": "python3"
  },
  "language_info": {
   "codemirror_mode": {
    "name": "ipython",
    "version": 3
   },
   "file_extension": ".py",
   "mimetype": "text/x-python",
   "name": "python",
   "nbconvert_exporter": "python",
   "pygments_lexer": "ipython3",
   "version": "3.7.3"
  }
 },
 "nbformat": 4,
 "nbformat_minor": 2
}
