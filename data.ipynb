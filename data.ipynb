{
 "cells": [
  {
   "cell_type": "code",
   "execution_count": 1,
   "metadata": {},
   "outputs": [
    {
     "data": {
      "text/plain": [
       "[2, 4, 3, 6]"
      ]
     },
     "execution_count": 1,
     "metadata": {},
     "output_type": "execute_result"
    }
   ],
   "source": [
    "import numpy as np\n",
    "\n",
    "a = [2,4]\n",
    "b = [3,6]\n",
    "\n",
    "a+b"
   ]
  },
  {
   "cell_type": "code",
   "execution_count": 3,
   "metadata": {},
   "outputs": [
    {
     "data": {
      "text/plain": [
       "array([ 6, 24])"
      ]
     },
     "execution_count": 3,
     "metadata": {},
     "output_type": "execute_result"
    }
   ],
   "source": [
    "import numpy as np\n",
    "\n",
    "a = np.array([2,4])\n",
    "b = np.array([3,6])\n",
    "\n",
    "a*b"
   ]
  },
  {
   "cell_type": "code",
   "execution_count": 5,
   "metadata": {},
   "outputs": [
    {
     "data": {
      "text/plain": [
       "array([-4,  2])"
      ]
     },
     "execution_count": 5,
     "metadata": {},
     "output_type": "execute_result"
    }
   ],
   "source": [
    "import numpy as np\n",
    "\n",
    "a = np.array([2,4])\n",
    "rot = np.array([[0,-1],[1,0]])\n",
    "\n",
    "rot.dot(a)"
   ]
  },
  {
   "cell_type": "code",
   "execution_count": 11,
   "metadata": {},
   "outputs": [
    {
     "data": {
      "text/html": [
       "<div>\n",
       "<style scoped>\n",
       "    .dataframe tbody tr th:only-of-type {\n",
       "        vertical-align: middle;\n",
       "    }\n",
       "\n",
       "    .dataframe tbody tr th {\n",
       "        vertical-align: top;\n",
       "    }\n",
       "\n",
       "    .dataframe thead th {\n",
       "        text-align: right;\n",
       "    }\n",
       "</style>\n",
       "<table border=\"1\" class=\"dataframe\">\n",
       "  <thead>\n",
       "    <tr style=\"text-align: right;\">\n",
       "      <th></th>\n",
       "      <th>age</th>\n",
       "      <th>nom</th>\n",
       "    </tr>\n",
       "  </thead>\n",
       "  <tbody>\n",
       "    <tr>\n",
       "      <th>0</th>\n",
       "      <td>42</td>\n",
       "      <td>Emile</td>\n",
       "    </tr>\n",
       "    <tr>\n",
       "      <th>1</th>\n",
       "      <td>45</td>\n",
       "      <td>Jacques</td>\n",
       "    </tr>\n",
       "    <tr>\n",
       "      <th>2</th>\n",
       "      <td>32</td>\n",
       "      <td>Elise</td>\n",
       "    </tr>\n",
       "    <tr>\n",
       "      <th>3</th>\n",
       "      <td>28</td>\n",
       "      <td>Aurélie</td>\n",
       "    </tr>\n",
       "  </tbody>\n",
       "</table>\n",
       "</div>"
      ],
      "text/plain": [
       "   age      nom\n",
       "0   42    Emile\n",
       "1   45  Jacques\n",
       "2   32    Elise\n",
       "3   28  Aurélie"
      ]
     },
     "execution_count": 11,
     "metadata": {},
     "output_type": "execute_result"
    }
   ],
   "source": [
    "import pandas as pd\n",
    "\n",
    "# df = pd.DataFrame([[1,2],[4,5]])\n",
    "# df\n",
    "df = pd.DataFrame({\n",
    "    \"age\": [42,45,32,28],\n",
    "    \"nom\": [\"Emile\", \"Jacques\", \"Elise\", \"Aurélie\"]\n",
    "})\n",
    "df"
   ]
  },
  {
   "cell_type": "code",
   "execution_count": 35,
   "metadata": {},
   "outputs": [
    {
     "data": {
      "text/plain": [
       "<matplotlib.axes._subplots.AxesSubplot at 0x2307b3e8780>"
      ]
     },
     "execution_count": 35,
     "metadata": {},
     "output_type": "execute_result"
    },
    {
     "data": {
      "image/png": "[encoded data removed]",
      "text/plain": [
       "<Figure size 432x288 with 2 Axes>"
      ]
     },
     "metadata": {
      "needs_background": "light"
     },
     "output_type": "display_data"
    }
   ],
   "source": [
    "%matplotlib inline\n",
    "\n",
    "df = pd.read_csv(\"train.csv\")\n",
    "df.describe()\n",
    "df.columns\n",
    "df.dtypes\n",
    "df[\"Age\"]\n",
    "\n",
    "import matplotlib.pyplot as plt\n",
    "fig, axes = plt.subplots(nrows=2, ncols=1)\n",
    "df[\"Age\"].hist(bins=25, ax=axes[0])\n",
    "df[\"Fare\"].hist(bins=25, ax=axes[1])\n"
   ]
  },
  {
   "cell_type": "code",
   "execution_count": 28,
   "metadata": {},
   "outputs": [
    {
     "data": {
      "text/plain": [
       "575"
      ]
     },
     "execution_count": 28,
     "metadata": {},
     "output_type": "execute_result"
    }
   ],
   "source": [
    "# Filtrer les colonnes\n",
    "df[[\"Survived\", \"Age\"]]\n",
    "# Opérations\n",
    "df[\"Age\"] + 40\n",
    "# Comparaisons\n",
    "df[\"Age\"] > 18\n",
    "# Filtrer\n",
    "df[(df[\"Age\"] > 18) & (df[\"Survived\"] == 1)]\n",
    "df[df[\"Age\"] > 18].count()\n",
    "len(df[df[\"Age\"] > 18])\n"
   ]
  },
  {
   "cell_type": "code",
   "execution_count": 39,
   "metadata": {},
   "outputs": [
    {
     "data": {
      "image/png": "[encoded data removed]",
      "text/plain": [
       "<Figure size 432x288 with 1 Axes>"
      ]
     },
     "metadata": {
      "needs_background": "light"
     },
     "output_type": "display_data"
    },
    {
     "data": {
      "image/png": "[encoded data removed]",
      "text/plain": [
       "<Figure size 432x288 with 1 Axes>"
      ]
     },
     "metadata": {
      "needs_background": "light"
     },
     "output_type": "display_data"
    }
   ],
   "source": [
    "# Proportion de femmes\n",
    "# Proportion d'hommes\n",
    "# Proportion de femmes qui ont survécu\n",
    "# Proportion d'hommes qui ont survécu\n",
    "\n",
    "# Histogramme des ages\n",
    "df.Age.hist()\n",
    "plt.show()\n",
    "# Histogramme des ages parmi les hommes qui ont survécu\n",
    "df[(df[\"Sex\"] == \"male\") & (df[\"Survived\"] == 1)].Age.hist()\n",
    "plt.show()\n",
    "\n",
    "\n"
   ]
  },
  {
   "cell_type": "code",
   "execution_count": 40,
   "metadata": {},
   "outputs": [
    {
     "data": {
      "text/plain": [
       "PassengerId      int64\n",
       "Survived         int64\n",
       "Pclass           int64\n",
       "Name            object\n",
       "Sex             object\n",
       "Age            float64\n",
       "SibSp            int64\n",
       "Parch            int64\n",
       "Ticket          object\n",
       "Fare           float64\n",
       "Cabin           object\n",
       "Embarked        object\n",
       "dtype: object"
      ]
     },
     "execution_count": 40,
     "metadata": {},
     "output_type": "execute_result"
    }
   ],
   "source": [
    "df.dtypes"
   ]
  },
  {
   "cell_type": "code",
   "execution_count": 83,
   "metadata": {},
   "outputs": [
    {
     "data": {
      "text/plain": [
       "PassengerId      int64\n",
       "Survived         int64\n",
       "Pclass           int64\n",
       "Name            object\n",
       "Sex              int64\n",
       "Age            float64\n",
       "SibSp            int64\n",
       "Parch            int64\n",
       "Ticket          object\n",
       "Fare           float64\n",
       "Cabin           object\n",
       "Embarked       float64\n",
       "Title            int64\n",
       "dtype: object"
      ]
     },
     "execution_count": 83,
     "metadata": {},
     "output_type": "execute_result"
    }
   ],
   "source": [
    "df = pd.read_csv(\"train.csv\")\n",
    "df[\"Sex\"] = df[\"Sex\"].map({\"female\": 1, \"male\": 0})\n",
    "df[\"Sex\"].head()\n",
    "df[\"Embarked\"].unique()\n",
    "df[\"Embarked\"] = df[\"Embarked\"].map({\"S\": 0, \"C\": 1, \"Q\": 2})\n",
    "df[[\"Sex\",\"Embarked\"]].head()\n",
    "df.Name.head()\n",
    "\n",
    "import re\n",
    "\n",
    "def extract_title(name):\n",
    "    title = re.findall(\", ([^.]+)\\.\", name)\n",
    "    return title[0]\n",
    "\n",
    "df[\"Title\"] = df[\"Name\"].map(extract_title)\n",
    "# extract_title(\"Cumings, Mrs. John Bradley (Florence Briggs Th\")\n",
    "titles = list(df.Title.unique())\n",
    "\n",
    "def map_title(title):\n",
    "    return titles.index(title)\n",
    "\n",
    "df[\"Title\"] = df[\"Title\"].map(map_title)\n",
    "# df[\"Title\"] = df[\"Title\"].map(lambda t: titles.index(t))\n",
    "df.dtypes"
   ]
  },
  {
   "cell_type": "code",
   "execution_count": 82,
   "metadata": {},
   "outputs": [
    {
     "name": "stdout",
     "output_type": "stream",
     "text": [
      "0.6630434782608695\n",
      "0.44642857142857145\n",
      "0.6103896103896104\n"
     ]
    }
   ],
   "source": [
    "# Est-ce que le capitaine est mort\n",
    "df[df[\"Title\"] == \"Capt\"]\n",
    "# Le lieu de embarquement où on a la plus grande mortalité\n",
    "print(len(df[(df[\"Embarked\"] == 0) & (df[\"Survived\"] == 0)]) / len(df[(df[\"Embarked\"] == 0)]))\n",
    "\n",
    "print(len(df[(df[\"Embarked\"] == 1) & (df[\"Survived\"] == 0)]) / len(df[(df[\"Embarked\"] == 1)]))\n",
    "\n",
    "print(len(df[(df[\"Embarked\"] == 2) & (df[\"Survived\"] == 0)]) / len(df[(df[\"Embarked\"] == 2)]))\n"
   ]
  },
  {
   "cell_type": "code",
   "execution_count": 123,
   "metadata": {},
   "outputs": [
    {
     "data": {
      "text/plain": [
       "Survived    712\n",
       "Pclass      712\n",
       "Sex         712\n",
       "Age         712\n",
       "SibSp       712\n",
       "Parch       712\n",
       "Fare        712\n",
       "Embarked    712\n",
       "Title       712\n",
       "dtype: int64"
      ]
     },
     "execution_count": 123,
     "metadata": {},
     "output_type": "execute_result"
    }
   ],
   "source": [
    "data_set = df.drop(columns=[\"PassengerId\", \"Name\", \"Ticket\", \"Cabin\"])\n",
    "data_set.Age = data_set.Age / data_set.Age.max()\n",
    "# data_set.Pclass = data_set.Pclass / data_set.Pclass.max()\n",
    "# data_set.Parch = data_set.Parch + data_set.SibSp\n",
    "# data_set.Parch = data_set.Parch / data_set.Parch.max()\n",
    "# data_set.drop(columns=[\"SibSp\"], inplace=True)\n",
    "# data_set.Fare = data_set.Fare / (1 + data_set.Parch)\n",
    "# data_set.Fare = data_set.Fare / data_set.Fare.max()\n",
    "\n",
    "data_set.count()\n",
    "data_set.dropna(inplace=True)\n",
    "data_set.count()\n"
   ]
  },
  {
   "cell_type": "code",
   "execution_count": 124,
   "metadata": {},
   "outputs": [
    {
     "name": "stdout",
     "output_type": "stream",
     "text": [
      "n=1 score = 0.7767857142857143\n",
      "n=2 score = 0.7946428571428571\n",
      "n=3 score = 0.8214285714285714\n",
      "n=4 score = 0.8392857142857143\n",
      "n=5 score = 0.8125\n",
      "n=6 score = 0.8125\n",
      "n=7 score = 0.8392857142857143\n",
      "n=8 score = 0.8125\n",
      "n=9 score = 0.8392857142857143\n",
      "n=10 score = 0.8482142857142857\n",
      "n=11 score = 0.8214285714285714\n",
      "n=12 score = 0.8303571428571429\n",
      "n=13 score = 0.8214285714285714\n",
      "n=14 score = 0.7767857142857143\n",
      "n=15 score = 0.7946428571428571\n",
      "n=16 score = 0.8035714285714286\n",
      "n=17 score = 0.7946428571428571\n",
      "n=18 score = 0.8035714285714286\n",
      "n=19 score = 0.8035714285714286\n",
      "n=20 score = 0.8125\n",
      "n=21 score = 0.8035714285714286\n",
      "n=22 score = 0.8125\n",
      "n=23 score = 0.7946428571428571\n",
      "n=24 score = 0.7946428571428571\n",
      "n=25 score = 0.7946428571428571\n",
      "n=26 score = 0.8125\n",
      "n=27 score = 0.7857142857142857\n",
      "n=28 score = 0.7946428571428571\n",
      "n=29 score = 0.7857142857142857\n",
      "n=30 score = 0.7678571428571429\n",
      "n=31 score = 0.7589285714285714\n",
      "n=32 score = 0.7767857142857143\n",
      "n=33 score = 0.7767857142857143\n",
      "n=34 score = 0.7946428571428571\n",
      "n=35 score = 0.7857142857142857\n",
      "n=36 score = 0.7589285714285714\n",
      "n=37 score = 0.7589285714285714\n",
      "n=38 score = 0.7589285714285714\n",
      "n=39 score = 0.7767857142857143\n"
     ]
    }
   ],
   "source": [
    "from sklearn.neighbors import KNeighborsClassifier as KNN\n",
    "\n",
    "training_set = data_set[:600]\n",
    "testing_set = data_set[600:]\n",
    "\n",
    "\n",
    "for n in range(1,40):\n",
    "    knn = KNN(n_neighbors=n)\n",
    "\n",
    "    knn.fit(training_set.drop(columns=[\"Survived\"]), training_set[\"Survived\"])\n",
    "\n",
    "    s = knn.score(testing_set.drop(columns=[\"Survived\"]), testing_set[\"Survived\"])\n",
    "    print(f\"n={n} score = {s}\")\n"
   ]
  },
  {
   "cell_type": "code",
   "execution_count": 169,
   "metadata": {},
   "outputs": [
    {
     "name": "stdout",
     "output_type": "stream",
     "text": [
      "[0]\n"
     ]
    },
    {
     "data": {
      "text/html": [
       "<div>\n",
       "<style scoped>\n",
       "    .dataframe tbody tr th:only-of-type {\n",
       "        vertical-align: middle;\n",
       "    }\n",
       "\n",
       "    .dataframe tbody tr th {\n",
       "        vertical-align: top;\n",
       "    }\n",
       "\n",
       "    .dataframe thead th {\n",
       "        text-align: right;\n",
       "    }\n",
       "</style>\n",
       "<table border=\"1\" class=\"dataframe\">\n",
       "  <thead>\n",
       "    <tr style=\"text-align: right;\">\n",
       "      <th></th>\n",
       "      <th>Survived</th>\n",
       "      <th>Pclass</th>\n",
       "      <th>Sex</th>\n",
       "      <th>Age</th>\n",
       "      <th>SibSp</th>\n",
       "      <th>Parch</th>\n",
       "      <th>Fare</th>\n",
       "      <th>Embarked</th>\n",
       "      <th>Title</th>\n",
       "    </tr>\n",
       "  </thead>\n",
       "  <tbody>\n",
       "    <tr>\n",
       "      <th>0</th>\n",
       "      <td>0</td>\n",
       "      <td>3</td>\n",
       "      <td>0</td>\n",
       "      <td>0.2750</td>\n",
       "      <td>1</td>\n",
       "      <td>0</td>\n",
       "      <td>7.2500</td>\n",
       "      <td>0.0</td>\n",
       "      <td>0</td>\n",
       "    </tr>\n",
       "    <tr>\n",
       "      <th>1</th>\n",
       "      <td>1</td>\n",
       "      <td>1</td>\n",
       "      <td>1</td>\n",
       "      <td>0.4750</td>\n",
       "      <td>1</td>\n",
       "      <td>0</td>\n",
       "      <td>71.2833</td>\n",
       "      <td>1.0</td>\n",
       "      <td>1</td>\n",
       "    </tr>\n",
       "    <tr>\n",
       "      <th>2</th>\n",
       "      <td>1</td>\n",
       "      <td>3</td>\n",
       "      <td>1</td>\n",
       "      <td>0.3250</td>\n",
       "      <td>0</td>\n",
       "      <td>0</td>\n",
       "      <td>7.9250</td>\n",
       "      <td>0.0</td>\n",
       "      <td>2</td>\n",
       "    </tr>\n",
       "    <tr>\n",
       "      <th>3</th>\n",
       "      <td>1</td>\n",
       "      <td>1</td>\n",
       "      <td>1</td>\n",
       "      <td>0.4375</td>\n",
       "      <td>1</td>\n",
       "      <td>0</td>\n",
       "      <td>53.1000</td>\n",
       "      <td>0.0</td>\n",
       "      <td>1</td>\n",
       "    </tr>\n",
       "    <tr>\n",
       "      <th>4</th>\n",
       "      <td>0</td>\n",
       "      <td>3</td>\n",
       "      <td>0</td>\n",
       "      <td>0.4375</td>\n",
       "      <td>0</td>\n",
       "      <td>0</td>\n",
       "      <td>8.0500</td>\n",
       "      <td>0.0</td>\n",
       "      <td>0</td>\n",
       "    </tr>\n",
       "  </tbody>\n",
       "</table>\n",
       "</div>"
      ],
      "text/plain": [
       "   Survived  Pclass  Sex     Age  SibSp  Parch     Fare  Embarked  Title\n",
       "0         0       3    0  0.2750      1      0   7.2500       0.0      0\n",
       "1         1       1    1  0.4750      1      0  71.2833       1.0      1\n",
       "2         1       3    1  0.3250      0      0   7.9250       0.0      2\n",
       "3         1       1    1  0.4375      1      0  53.1000       0.0      1\n",
       "4         0       3    0  0.4375      0      0   8.0500       0.0      0"
      ]
     },
     "execution_count": 169,
     "metadata": {},
     "output_type": "execute_result"
    }
   ],
   "source": [
    "knn = KNN(n_neighbors=10)\n",
    "\n",
    "knn.fit(training_set.drop(columns=[\"Survived\"]), training_set[\"Survived\"])\n",
    "\n",
    "moi = pd.DataFrame([{\n",
    "    \"Pclass\": 3.0,\n",
    "    \"Sex\": 0.0,\n",
    "    \"Age\": 28 / df.Age.max(),\n",
    "    \"SibSp\": 1.0,\n",
    "    \"Parch\": 2.0,\n",
    "    \"Fare\": 8.0,\n",
    "    \"Embarked\": 1.0,\n",
    "    \"Title\": 1.0\n",
    "}])\n",
    "\n",
    "print(knn.predict(moi[[\"Pclass\", \"Sex\", \"Age\", \"SibSp\", \"Parch\", \"Fare\", \"Embarked\", \"Title\"]]))\n",
    "training_set.head()\n",
    "# knn.predict(moi)\n",
    "# res = knn.predict(training_set.drop(columns=[\"Survived\"]))\n",
    "# training_set.iloc[3].drop(columns=[\"Survived\"])"
   ]
  },
  {
   "cell_type": "code",
   "execution_count": 132,
   "metadata": {},
   "outputs": [
    {
     "data": {
      "text/plain": [
       "['Mr',\n",
       " 'Mrs',\n",
       " 'Miss',\n",
       " 'Master',\n",
       " 'Don',\n",
       " 'Rev',\n",
       " 'Dr',\n",
       " 'Mme',\n",
       " 'Ms',\n",
       " 'Major',\n",
       " 'Lady',\n",
       " 'Sir',\n",
       " 'Mlle',\n",
       " 'Col',\n",
       " 'Capt',\n",
       " 'the Countess',\n",
       " 'Jonkheer']"
      ]
     },
     "execution_count": 132,
     "metadata": {},
     "output_type": "execute_result"
    },
    {
     "data": {
      "image/png": "[encoded data removed]",
      "text/plain": [
       "<Figure size 432x288 with 1 Axes>"
      ]
     },
     "metadata": {
      "needs_background": "light"
     },
     "output_type": "display_data"
    }
   ],
   "source": [
    "data_set.Fare.hist(bins=25)\n",
    "data_set.Fare.describe()\n"
   ]
  },
  {
   "cell_type": "code",
   "execution_count": null,
   "metadata": {},
   "outputs": [],
   "source": []
  },
  {
   "cell_type": "code",
   "execution_count": null,
   "metadata": {},
   "outputs": [],
   "source": []
  }
 ],
 "metadata": {
  "kernelspec": {
   "display_name": "Python 3",
   "language": "python",
   "name": "python3"
  },
  "language_info": {
   "codemirror_mode": {
    "name": "ipython",
    "version": 3
   },
   "file_extension": ".py",
   "mimetype": "text/x-python",
   "name": "python",
   "nbconvert_exporter": "python",
   "pygments_lexer": "ipython3",
   "version": "3.7.3"
  }
 },
 "nbformat": 4,
 "nbformat_minor": 2
}
