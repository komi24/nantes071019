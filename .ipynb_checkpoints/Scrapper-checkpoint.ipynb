{
 "cells": [
  {
   "cell_type": "code",
   "execution_count": 1,
   "metadata": {},
   "outputs": [],
   "source": [
    "from selenium import webdriver"
   ]
  },
  {
   "cell_type": "code",
   "execution_count": 2,
   "metadata": {},
   "outputs": [],
   "source": [
    "browser = webdriver.Chrome()"
   ]
  },
  {
   "cell_type": "code",
   "execution_count": 3,
   "metadata": {},
   "outputs": [],
   "source": [
    "browser.get(\"https://www.seloger.com/\")"
   ]
  },
  {
   "cell_type": "code",
   "execution_count": 5,
   "metadata": {},
   "outputs": [],
   "source": [
    "button = browser.find_element_by_css_selector(\"a.b-btn.b-prime\")\n",
    "button.click()"
   ]
  },
  {
   "cell_type": "code",
   "execution_count": 6,
   "metadata": {},
   "outputs": [],
   "source": [
    "prices = browser.find_elements_by_css_selector(\"div.jGOFou\")\n",
    "# prices = browser.find_elements_by_css_selector(\"span.c-pa-cprice\")\n"
   ]
  },
  {
   "cell_type": "code",
   "execution_count": 9,
   "metadata": {},
   "outputs": [
    {
     "name": "stdout",
     "output_type": "stream",
     "text": [
      "bouquet\n",
      "38 525 €\n",
      "bouquet\n",
      "40 750 €\n",
      "bouquet\n",
      "41 250 €\n",
      "bouquet\n",
      "46 842 €\n",
      "bouquet\n",
      "49 665 €\n",
      "bouquet\n",
      "51 038 €\n",
      "bouquet\n",
      "54 972 €\n",
      "bouquet\n",
      "75 500 €\n",
      "bouquet\n",
      "81 845 €\n",
      "bouquet\n",
      "92 500 €\n",
      "bouquet\n",
      "93 750 €\n",
      "bouquet\n",
      "97 100 €\n",
      "116 500 €\n",
      "117 500 €\n",
      "119 000 €\n",
      "bouquet\n",
      "123 715 €\n",
      "125 000 €\n",
      "128 000 €\n",
      "129 000 €\n",
      "bouquet\n",
      "129 250 €\n",
      "129 900 €\n",
      "135 000 €\n",
      "136 740 €\n",
      "140 000 €\n",
      "143 100 €\n"
     ]
    }
   ],
   "source": [
    "liste_prix = []\n",
    "for price in prices:\n",
    "    print(price.text)\n",
    "    liste_prix.append(price.text)"
   ]
  },
  {
   "cell_type": "code",
   "execution_count": 18,
   "metadata": {},
   "outputs": [],
   "source": [
    "import re\n",
    "\n",
    "# prix = liste_prix[0]\n",
    "# print(prix)\n",
    "\n",
    "resultat = []\n",
    "for prix in liste_prix:\n",
    "    prix = re.findall(\"\\d+\", prix)\n",
    "    resultat.append(int(\"\".join(prix)))"
   ]
  },
  {
   "cell_type": "code",
   "execution_count": 20,
   "metadata": {},
   "outputs": [
    {
     "data": {
      "text/plain": [
       "97457.68"
      ]
     },
     "execution_count": 20,
     "metadata": {},
     "output_type": "execute_result"
    }
   ],
   "source": [
    "sum(resultat)/len(resultat)"
   ]
  },
  {
   "cell_type": "code",
   "execution_count": null,
   "metadata": {},
   "outputs": [],
   "source": []
  }
 ],
 "metadata": {
  "kernelspec": {
   "display_name": "Python 3",
   "language": "python",
   "name": "python3"
  },
  "language_info": {
   "codemirror_mode": {
    "name": "ipython",
    "version": 3
   },
   "file_extension": ".py",
   "mimetype": "text/x-python",
   "name": "python",
   "nbconvert_exporter": "python",
   "pygments_lexer": "ipython3",
   "version": "3.7.3"
  }
 },
 "nbformat": 4,
 "nbformat_minor": 2
}
